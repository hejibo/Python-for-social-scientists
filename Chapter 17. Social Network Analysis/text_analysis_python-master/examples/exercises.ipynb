{
 "cells": [
  {
   "cell_type": "markdown",
   "metadata": {
    "collapsed": true
   },
   "source": [
    "## Example 1: \n",
    "- Save the 4 first elements of the list below to the variable new_list\n",
    "- Append value \"8\" to new_list.\n",
    "- print result\n",
    "\n",
    "Result [0,1,2,3,\"8\"]"
   ]
  },
  {
   "cell_type": "code",
   "execution_count": 14,
   "metadata": {
    "collapsed": false
   },
   "outputs": [
    {
     "name": "stdout",
     "output_type": "stream",
     "text": [
      "[0, 1, 2, 3]\n",
      "[0, 1, 2, 3, 8]\n"
     ]
    }
   ],
   "source": [
    "#initial list\n",
    "initial_list = [0,1,2,3,4,5,6,7,8,9]\n",
    "#Save the 4th first elements of the list below to new_list (tip: use [something:something])\n",
    "new_list = \n",
    "\n",
    "#Append value \"8\" to new_list.\n",
    "seomthing = something + something\n",
    "\n",
    "#print result\n",
    "\n"
   ]
  },
  {
   "cell_type": "markdown",
   "metadata": {
    "collapsed": true
   },
   "source": [
    "## Example 2: \n",
    "- Find the unique numubers in this list\n",
    "- Sort the result\n",
    "- Print it\n",
    "\n",
    "Result [0,1,2,3,4,5,6,7,8,9]"
   ]
  },
  {
   "cell_type": "code",
   "execution_count": 17,
   "metadata": {
    "collapsed": false
   },
   "outputs": [
    {
     "name": "stdout",
     "output_type": "stream",
     "text": [
      "[0, 1, 2, 3, 4, 5, 6, 7, 8, 9]\n"
     ]
    }
   ],
   "source": [
    "#initial list\n",
    "initial_list = [6, 2, 8, 5, 6, 3, 9, 9, 8, 6, 7, 0, 7, 7, 0, 6, 4, 6, 6, 4, 3, 6, 0,\n",
    "       1, 3, 6, 1, 9, 8, 9, 0, 6, 2, 1, 4, 4, 1, 7, 5, 3, 2, 2, 2, 0, 5, 8,\n",
    "       2, 0, 8, 3, 7, 0, 9, 9, 6, 3, 8, 8, 7, 7, 2, 2, 6, 5, 5, 0, 8, 7, 6,\n",
    "       9, 8, 0, 6, 2, 2, 8, 4, 6, 0, 3, 4, 8, 1, 4, 3, 9, 7, 9, 7, 0, 4, 7,\n",
    "       1, 7, 9, 8, 8, 0, 7, 7]\n",
    "\n",
    "#find unique words (tip: convert the list to a set)\n",
    "initial_set = set(something)\n",
    "#sort the result (tip: convert to a list before)\n",
    "new_list = l\n",
    "new_list.something()\n",
    "print(new_list)\n",
    "#print it"
   ]
  },
  {
   "cell_type": "markdown",
   "metadata": {},
   "source": [
    "## Example 3: \n",
    "- Add Friend3 to the dictionary\n",
    "- Change the number of Friend2\n",
    "\n",
    "Result [0,1,2,3,4,5,6,7,8,9]"
   ]
  },
  {
   "cell_type": "code",
   "execution_count": 20,
   "metadata": {
    "collapsed": false
   },
   "outputs": [
    {
     "ename": "TypeError",
     "evalue": "unsupported operand type(s) for +: 'dict' and 'dict'",
     "output_type": "error",
     "traceback": [
      "\u001b[1;31m---------------------------------------------------------------------------\u001b[0m",
      "\u001b[1;31mTypeError\u001b[0m                                 Traceback (most recent call last)",
      "\u001b[1;32m<ipython-input-20-5761e368adc2>\u001b[0m in \u001b[0;36m<module>\u001b[1;34m()\u001b[0m\n\u001b[0;32m      5\u001b[0m \u001b[1;33m\u001b[0m\u001b[0m\n\u001b[0;32m      6\u001b[0m \u001b[1;31m#add friend3\u001b[0m\u001b[1;33m\u001b[0m\u001b[1;33m\u001b[0m\u001b[0m\n\u001b[1;32m----> 7\u001b[1;33m \u001b[0mthis_is_a_dict\u001b[0m \u001b[1;33m=\u001b[0m \u001b[0mthis_is_a_dict\u001b[0m \u001b[1;33m+\u001b[0m \u001b[1;33m{\u001b[0m\u001b[1;34m\"Friend3\"\u001b[0m \u001b[1;33m:\u001b[0m \u001b[1;36m378037383\u001b[0m\u001b[1;33m}\u001b[0m\u001b[1;33m\u001b[0m\u001b[0m\n\u001b[0m\u001b[0;32m      8\u001b[0m \u001b[0mthis_is_a_dict\u001b[0m\u001b[1;33m\u001b[0m\u001b[0m\n",
      "\u001b[1;31mTypeError\u001b[0m: unsupported operand type(s) for +: 'dict' and 'dict'"
     ]
    }
   ],
   "source": [
    "#initial_dict\n",
    "this_is_a_dict = {\"Javier\": 63434234234, \"Friend1\": 4234423243, \"Friend2\": 424233345}\n",
    "#change the phone number of friend2 (tip: use this_is_a_dict[\"Friend2\"] = ...)\n",
    "\n",
    "\n",
    "#add friend3 \n"
   ]
  },
  {
   "cell_type": "markdown",
   "metadata": {
    "collapsed": true
   },
   "source": [
    "## Example 4 (a bit harder): \n",
    "- Convert all the names starting with A to upercase, and the rest to lowercase\n",
    "\n",
    "Result [\"AARON\",\"bart\",\"AMANDA\",\"rik\"]"
   ]
  },
  {
   "cell_type": "code",
   "execution_count": null,
   "metadata": {
    "collapsed": true
   },
   "outputs": [],
   "source": [
    "initial_list = [\"aArOn\",\"bArR\",\"AmAdDa\",\"RIk\"]\n",
    "\n",
    "#create an empty list called new_list\n",
    "\n",
    "#for each_element in initial_list: \n",
    "# check the first letter\n",
    "# if == \"A\" make the element uppercase and append it to \"new_list\""
   ]
  },
  {
   "cell_type": "markdown",
   "metadata": {},
   "source": [
    "## Example 5 (fill )\n",
    "- Make a csv file (separated by tabs) line by line with two fields: occurences of python, and year\n",
    "- Read a csv line by line, finding the number of times \"python\" in year 1990\n",
    "- Make a bar plot for the different newspapers\n",
    "\n",
    "    "
   ]
  },
  {
   "cell_type": "code",
   "execution_count": 2,
   "metadata": {
    "collapsed": true
   },
   "outputs": [],
   "source": [
    "#make csv\n",
    "with open(\"./data/example_python_year.csv\",fill) as f:\n",
    "    f.write(\"10\\t\\2000\\n\")\n",
    "    f.write(\"20\\t\\2000\\n\")\n",
    "    f.write(\"15\\t\\2000\\n\")\n",
    "    f.write(\"50\\t\\2000\\n\")\n",
    "    f.write(\"8\\t\\2000\\n\")\n",
    "    f.write(\"30\\t\\2000\\n\")\n",
    "    f.write(\"40\\t\\2000\\n\")    \n",
    "    f.write(\"3\\t\\1990\\n\")\n",
    "    f.write(\"4\\t\\1990\\n\")\n",
    "    f.write(\"6\\t\\1990\\n\")\n",
    "    f.write(\"1\\t\\1990\\n\")\n",
    "    f.write(\"10\\t\\1990\\n\")\n",
    "    f.write(\"20\\t\\1990\\n\")\n",
    "    f.write(\"5\\t\\1990\\n\") "
   ]
  },
  {
   "cell_type": "code",
   "execution_count": null,
   "metadata": {
    "collapsed": true
   },
   "outputs": [],
   "source": [
    "import numpy as np\n",
    "\n",
    "def keepyear(list_lines):\n",
    "    times_1990 = []\n",
    "    times_2000 = []\n",
    "    for each_element in list_lines:\n",
    "        times,year = each_element.split(fill)\n",
    "        if year.fill == fill:\n",
    "            times_1990.append(times)\n",
    "        else:\n",
    "            times_2000.append(times)\n",
    "    return times_1990,times_2000\n",
    "    \n",
    "def plot(x,y):\n",
    "    plt.bar(x,y)\n",
    "    plt.show()\n",
    "    \n",
    "#read data\n",
    "with open(\"./data/example_python_year.csv\",fill) as f:\n",
    "    list_lines = f.fill\n",
    "    \n",
    "#get lists and means\n",
    "times_1990,times_2000 = fill\n",
    "mean_1990 = np.mean(fill)\n",
    "mean_2000 = np.mean(fill)\n",
    "\n",
    "#plot\n",
    "fill"
   ]
  },
  {
   "cell_type": "code",
   "execution_count": 8,
   "metadata": {
    "collapsed": false
   },
   "outputs": [],
   "source": [
    "#Make the two last steps with pandas\n",
    "import pandas as pd\n",
    "import pylab as plt\n",
    "\n",
    "df = pd.read_csv(\"./data/example_python_year.csv\",sep=\"\\t\",header=None,index_col=None)\n",
    "df.columns = [\"Times\",\"Year\"]\n",
    "\n",
    "meanData = df.groupby(\"Year\").mean().reset_index()\n",
    "meanData.plot(x = \"Year\", y = \"Times\", kind=\"bar\")\n",
    "plt.show()"
   ]
  },
  {
   "cell_type": "markdown",
   "metadata": {},
   "source": [
    "## Example 6 (significance of results)\n",
    "- Use a non-parametric method \n",
    "\n",
    "    "
   ]
  },
  {
   "cell_type": "code",
   "execution_count": 9,
   "metadata": {
    "collapsed": false
   },
   "outputs": [
    {
     "ename": "NameError",
     "evalue": "name 'times_1990' is not defined",
     "output_type": "error",
     "traceback": [
      "\u001b[1;31m---------------------------------------------------------------------------\u001b[0m",
      "\u001b[1;31mNameError\u001b[0m                                 Traceback (most recent call last)",
      "\u001b[1;32m<ipython-input-9-2e0e20ac1159>\u001b[0m in \u001b[0;36m<module>\u001b[1;34m()\u001b[0m\n\u001b[0;32m      1\u001b[0m \u001b[1;32mfrom\u001b[0m \u001b[0mscipy\u001b[0m\u001b[1;33m.\u001b[0m\u001b[0mstats\u001b[0m \u001b[1;32mimport\u001b[0m \u001b[0mmannwhitneyu\u001b[0m\u001b[1;33m\u001b[0m\u001b[0m\n\u001b[1;32m----> 2\u001b[1;33m \u001b[0mprint\u001b[0m\u001b[1;33m(\u001b[0m\u001b[0mmannwhitneyu\u001b[0m\u001b[1;33m(\u001b[0m\u001b[0mtimes_1990\u001b[0m\u001b[1;33m,\u001b[0m\u001b[0mtimes_2000\u001b[0m\u001b[1;33m)\u001b[0m\u001b[1;33m)\u001b[0m\u001b[1;33m\u001b[0m\u001b[0m\n\u001b[0m",
      "\u001b[1;31mNameError\u001b[0m: name 'times_1990' is not defined"
     ]
    }
   ],
   "source": [
    "from scipy.stats import mannwhitneyu\n",
    "print(mannwhitneyu(times_1990,times_2000))"
   ]
  }
 ],
 "metadata": {
  "kernelspec": {
   "display_name": "Python 3",
   "language": "python",
   "name": "python3"
  },
  "language_info": {
   "codemirror_mode": {
    "name": "ipython",
    "version": 3
   },
   "file_extension": ".py",
   "mimetype": "text/x-python",
   "name": "python",
   "nbconvert_exporter": "python",
   "pygments_lexer": "ipython3",
   "version": "3.5.1"
  }
 },
 "nbformat": 4,
 "nbformat_minor": 0
}
