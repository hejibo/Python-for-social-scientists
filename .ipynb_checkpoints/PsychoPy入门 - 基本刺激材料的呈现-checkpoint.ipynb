{
 "cells": [
  {
   "cell_type": "markdown",
   "metadata": {},
   "source": [
    "# PsychoPy入门 - 基本刺激材料的呈现"
   ]
  },
  {
   "cell_type": "markdown",
   "metadata": {},
   "source": [
    "作者： 何吉波博士，优视眼动科技公司创始人，hejibo@usee.tech, http://www.usee.tech\n"
   ]
  },
  {
   "cell_type": "markdown",
   "metadata": {},
   "source": [
    "这一节讲述如何通过PsychoPy呈现心理学的常用刺激材料，包括文本、图片、声音、视频等。此外，我们还以经典的视觉搜索任务 (Visual Search Task)为例，讲述如何通过编程实现比较复杂的刺激，例如，在O中搜索Q字母。\n"
   ]
  },
  {
   "attachments": {},
   "cell_type": "markdown",
   "metadata": {},
   "source": [
    "### 1. 呈现文本刺激材料\n",
    "\n",
    "在PsychoPy中，呈现文本信息，使用的是视觉库下的TextStim这个函数。呈现文本信息通常要经过下面的步骤：\n",
    "1. 先使用from psychopy import visual导入visual这个视觉库，\n",
    "2. 接着定义一个取名为myWin的画布，\n",
    "3. 然后使用visual.TextStim函数定义要呈现的文本信息，\n",
    "4. 随后我们就可以通过psychopyTxt.draw()这个绘制函数讲文本信息绘制到myWin画布上，\n",
    "5. 最后一步是，使用core.wait(5.0)这个函数来让文本信息停留五秒钟，否则呈现内容就会一闪而过。 \n",
    "\n",
    "对于每一个刺激PsychoPy程序， 我们基本上都需要设置画布。这是导入相关工具库后做的第一步工作。 我们可以使用visual.Window设置一个画布。其中，第一个参数(800.0,800.0)是设置画布的大小为800*800个像素。monitor='testMonitor'为显示器的名字。 units ='deg'是指定计量单位为度。screen=0是设置当前画布在哪个屏幕中呈现，主要用于具有多屏幕显示的研究。当然monitor='testMonitor', units ='deg', screen=0 这些参数都是可选的，可以删除的。我们列举出来，是出于教学的目的，向读者展现visual.Window可选的参数，也许有的读者感兴趣，或者用得着。 我们直接通过myWin = visual.Window((300.0,300.0))这样简介的方式，也是可以成功设置一个画布的。\n",
    "\n",
    "\n",
    "\n",
    "\n"
   ]
  },
  {
   "cell_type": "markdown",
   "metadata": {},
   "source": [
    "【小贴士】Python和PsychoPy都是大小写敏感的。window和Window是不同的函数或者变量。 我在多个大学授课时发现，同学们经常忘记注意大小写的区分了。另外一个常见错误是拼写错误。比如讲visual.Window写作visual.Widow。而大小写错误和拼写错误在编码和测试时是非常难发现的。 "
   ]
  },
  {
   "cell_type": "code",
   "execution_count": 1,
   "metadata": {},
   "outputs": [
    {
     "ename": "ImportError",
     "evalue": "No module named psychopy",
     "output_type": "error",
     "traceback": [
      "\u001b[1;31m---------------------------------------------------------------------------\u001b[0m",
      "\u001b[1;31mImportError\u001b[0m                               Traceback (most recent call last)",
      "\u001b[1;32m<ipython-input-1-16fce00370ab>\u001b[0m in \u001b[0;36m<module>\u001b[1;34m()\u001b[0m\n\u001b[0;32m      1\u001b[0m \u001b[1;31m#!/usr/bin/env python2\u001b[0m\u001b[1;33m\u001b[0m\u001b[1;33m\u001b[0m\u001b[0m\n\u001b[1;32m----> 2\u001b[1;33m \u001b[1;32mfrom\u001b[0m \u001b[0mpsychopy\u001b[0m \u001b[1;32mimport\u001b[0m \u001b[0mvisual\u001b[0m\u001b[1;33m,\u001b[0m \u001b[0mcore\u001b[0m\u001b[1;33m,\u001b[0m \u001b[0mevent\u001b[0m\u001b[1;33m\u001b[0m\u001b[0m\n\u001b[0m\u001b[0;32m      3\u001b[0m \u001b[1;33m\u001b[0m\u001b[0m\n\u001b[0;32m      4\u001b[0m \u001b[1;31m#create a window to draw in\u001b[0m\u001b[1;33m\u001b[0m\u001b[1;33m\u001b[0m\u001b[0m\n\u001b[0;32m      5\u001b[0m myWin = visual.Window((800.0,800.0),allowGUI=False,winType='pyglet',\n",
      "\u001b[1;31mImportError\u001b[0m: No module named psychopy"
     ]
    }
   ],
   "source": [
    "#!/usr/bin/env python2\n",
    "#使用from psychopy import visual导入visual这个视觉库\n",
    "from psychopy import visual, core, event\n",
    "\n",
    "#定义一个取名为myWin的画布\n",
    "myWin = visual.Window((800.0,800.0),\n",
    "            monitor='testMonitor', units ='deg', screen=0)\n",
    "myWin.setRecordFrameIntervals()\n",
    "\n",
    "#使用visual.TextStim函数定义要呈现的文本信息\n",
    "psychopyTxt = visual.TextStim(myWin, color='#FFFFFF',\n",
    "                        text = u\"PsychoPy is a GREAT tool\",\n",
    "                        units='norm', height=0.1,\n",
    "                        pos=[0.5, 0.5], alignHoriz='right',alignVert='top')\n",
    "\n",
    "#通过psychopyTxt.draw()这个绘制函数讲文本信息绘制到myWin画布\n",
    "psychopyTxt.draw()\n",
    "    \n",
    "myWin.flip()\n",
    "\n",
    "#让文本信息停留五秒钟，否则呈现内容就会一闪而过\n",
    "core.wait(5.0)\n"
   ]
  },
  {
   "cell_type": "code",
   "execution_count": null,
   "metadata": {
    "collapsed": true
   },
   "outputs": [],
   "source": []
  }
 ],
 "metadata": {
  "kernelspec": {
   "display_name": "Python 2",
   "language": "python",
   "name": "python2"
  },
  "language_info": {
   "codemirror_mode": {
    "name": "ipython",
    "version": 2
   },
   "file_extension": ".py",
   "mimetype": "text/x-python",
   "name": "python",
   "nbconvert_exporter": "python",
   "pygments_lexer": "ipython2",
   "version": "2.7.13"
  }
 },
 "nbformat": 4,
 "nbformat_minor": 2
}
