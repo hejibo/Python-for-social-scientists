{
 "metadata": {
  "name": "",
  "signature": "sha256:0115a1e7b25a031e200f407593b7b9d5c382bbf86ca52d66c30ec7efb0a2e29e"
 },
 "nbformat": 3,
 "nbformat_minor": 0,
 "worksheets": [
  {
   "cells": [
    {
     "cell_type": "code",
     "collapsed": false,
     "input": [
      "print 1\n"
     ],
     "language": "python",
     "metadata": {},
     "outputs": []
    }
   ],
   "metadata": {}
  }
 ]
}