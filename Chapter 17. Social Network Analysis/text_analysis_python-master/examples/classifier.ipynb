{
 "cells": [
  {
   "cell_type": "markdown",
   "metadata": {},
   "source": [
    "# Naive Bayes classifier for multinomial models\n",
    "The multinomial Naive Bayes classifier is suitable for classification with discrete features (e.g., word counts for text classification). The multinomial distribution normally requires integer feature counts. However, in practice, fractional counts such as tf-idf may also work.\n",
    "\n",
    "http://scikit-learn.org/stable/modules/generated/sklearn.naive_bayes.MultinomialNB.html"
   ]
  },
  {
   "cell_type": "code",
   "execution_count": 15,
   "metadata": {
    "collapsed": true
   },
   "outputs": [],
   "source": []
  },
  {
   "cell_type": "code",
   "execution_count": 2,
   "metadata": {
    "collapsed": false
   },
   "outputs": [
    {
     "name": "stdout",
     "output_type": "stream",
     "text": [
      "data loaded\n",
      "['alt.atheism', 'comp.graphics', 'sci.space', 'talk.religion.misc']\n",
      "\n",
      "['Hi,\\n'\n",
      " '\\n'\n",
      " \"I've noticed that if you only save a model (with all your mapping planes\\n\"\n",
      " 'positioned carefully) to a .3DS file that when you reload it after '\n",
      " 'restarting\\n'\n",
      " '3DS, they are given a default position and orientation.  But if you save\\n'\n",
      " 'to a .PRJ file their positions/orientation are preserved.  Does anyone\\n'\n",
      " 'know why this information is not stored in the .3DS file?  Nothing is\\n'\n",
      " 'explicitly said in the manual about saving texture rules in the .PRJ file. \\n'\n",
      " \"I'd like to be able to read the texture rule information, does anyone have \\n\"\n",
      " 'the format for the .PRJ file?\\n'\n",
      " '\\n'\n",
      " 'Is the .CEL file format available from somewhere?\\n'\n",
      " '\\n'\n",
      " 'Rych',\n",
      " '\\n'\n",
      " '\\n'\n",
      " 'Seems to be, barring evidence to the contrary, that Koresh was simply\\n'\n",
      " 'another deranged fanatic who thought it neccessary to take a whole bunch of\\n'\n",
      " 'folks with him, children and all, to satisfy his delusional mania. Jim\\n'\n",
      " 'Jones, circa 1993.\\n'\n",
      " '\\n'\n",
      " '\\n'\n",
      " 'Nope - fruitcakes like Koresh have been demonstrating such evil corruption\\n'\n",
      " 'for centuries.']\n",
      "array([1, 3])\n",
      "\n",
      "top 10 keywords per class:\n",
      "alt.atheism: know atheism religion does say just think people don god\n",
      "comp.graphics: hi does looking program image know file files thanks graphics\n",
      "sci.space: don earth think moon launch orbit just like nasa space\n",
      "talk.religion.misc: bible know just think christians don christian people jesus god\n",
      "\n"
     ]
    }
   ],
   "source": [
    "import logging\n",
    "import numpy as np\n",
    "from optparse import OptionParser\n",
    "import sys\n",
    "from time import time\n",
    "import matplotlib.pyplot as plt\n",
    "from sklearn.feature_extraction.text import TfidfVectorizer\n",
    "from sklearn import metrics\n",
    "from sklearn.naive_bayes import MultinomialNB\n",
    "from sklearn.utils.extmath import density\n",
    "from pprint import pprint\n",
    "def classifier(clf,X_train,y_train,X_test,feature_names,categories):\n",
    "    # Adapted from below\n",
    "    # Author: Peter Prettenhofer <peter.prettenhofer@gmail.com>\n",
    "    #         Olivier Grisel <olivier.grisel@ensta.org>\n",
    "    #         Mathieu Blondel <mathieu@mblondel.org>\n",
    "    #         Lars Buitinck <L.J.Buitinck@uva.nl>\n",
    "    # License: BSD 3 clause\n",
    "\n",
    "    clf.fit(X_train, y_train)\n",
    "    pred = clf.predict(X_test)\n",
    "    pred_prob = clf.predict_proba(X_test)\n",
    "    \n",
    "\n",
    "    print(\"top 10 keywords per class:\")\n",
    "    for i, category in enumerate(categories):\n",
    "        top10 = np.argsort(clf.coef_[i])[-10:]\n",
    "        print(\"{0}: {1}\".format(category, \" \".join(feature_names[top10])))\n",
    "    print()\n",
    "\n",
    "\n",
    "    return pred_prob\n",
    "\n",
    "from sklearn.datasets import fetch_20newsgroups\n",
    "categories = [\n",
    "    'alt.atheism',\n",
    "    'talk.religion.misc',\n",
    "    'comp.graphics',\n",
    "    'sci.space',\n",
    "]\n",
    "remove = ('headers', 'footers', 'quotes')\n",
    "data_train = fetch_20newsgroups(subset='train', categories=categories,\n",
    "                                shuffle=True, random_state=42,\n",
    "                                remove=remove)\n",
    "\n",
    "data_test = fetch_20newsgroups(subset='test', categories=categories,\n",
    "                               shuffle=True, random_state=42,\n",
    "                               remove=remove)\n",
    "\n",
    "\n",
    "print('data loaded')\n",
    "vectorizer = TfidfVectorizer(sublinear_tf=True, max_df=0.5, stop_words='english')\n",
    "categories = data_train.target_names    \n",
    "print(categories)\n",
    "print()\n",
    "\n",
    "pprint(data_train.data[:2])\n",
    "pprint(data_train.target[:2])\n",
    "print()\n",
    "y_train = data_train.target\n",
    "\n",
    "X_train = vectorizer.fit_transform(data_train.data)\n",
    "X_test = vectorizer.transform(data_test.data)\n",
    "feature_names = np.array(vectorizer.get_feature_names())\n",
    "\n",
    "pred_prob = classifier(MultinomialNB(alpha=.01),X_train,y_train,X_test,feature_names,categories)"
   ]
  },
  {
   "cell_type": "code",
   "execution_count": 3,
   "metadata": {
    "collapsed": false
   },
   "outputs": [
    {
     "name": "stdout",
     "output_type": "stream",
     "text": [
      "['alt.atheism', 'comp.graphics', 'sci.space', 'talk.religion.misc']\n"
     ]
    },
    {
     "data": {
      "text/plain": [
       "array([[ 0.016,  0.177,  0.805,  0.002],\n",
       "       [ 0.058,  0.704,  0.232,  0.006],\n",
       "       [ 0.001,  0.875,  0.124,  0.   ],\n",
       "       ..., \n",
       "       [ 0.09 ,  0.003,  0.336,  0.571],\n",
       "       [ 0.   ,  0.972,  0.028,  0.   ],\n",
       "       [ 0.   ,  1.   ,  0.   ,  0.   ]])"
      ]
     },
     "execution_count": 3,
     "metadata": {},
     "output_type": "execute_result"
    }
   ],
   "source": [
    "#Some options for nice printing\n",
    "np.set_printoptions(precision=3)\n",
    "np.set_printoptions(suppress=True)\n",
    "print(['alt.atheism', 'comp.graphics', 'sci.space', 'talk.religion.misc'])\n",
    "pred_prob"
   ]
  }
 ],
 "metadata": {
  "kernelspec": {
   "display_name": "Python 3",
   "language": "python",
   "name": "python3"
  },
  "language_info": {
   "codemirror_mode": {
    "name": "ipython",
    "version": 3
   },
   "file_extension": ".py",
   "mimetype": "text/x-python",
   "name": "python",
   "nbconvert_exporter": "python",
   "pygments_lexer": "ipython3",
   "version": "3.5.1"
  }
 },
 "nbformat": 4,
 "nbformat_minor": 0
}
